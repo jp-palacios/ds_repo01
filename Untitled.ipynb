{
 "cells": [
  {
   "cell_type": "markdown",
   "metadata": {},
   "source": [
    "# Perfil Estudiante\n",
    "\n",
    "## Nombre: Jose Pablo Palacios\n",
    "\n",
    "![JOSEPABLO PALACIOS](http://m1.paperblog.com/i/78/784507/cortes-pelo-gustos-fail-L-wb4nbe.jpeg)\n",
    "# Datos Generales\n",
    "\n",
    ">** Frase Celebre:** Que sexy es el amor. -Jose Pablo Palacios \n",
    ">** Correo: ** chepitoelrico@otroplaneta.com\n",
    "\n",
    ">** Amor imposible de su vida:** Arianne Zuastegui Valdez\n",
    ">** Agradecimiento especial: ** Arianne gracias por ayudarme a hacer esto. \n",
    "\n",
    "Edad: 17 Años\n",
    "Descripcion: Es callado, timido, inocente y tiene la mirada.\n",
    "Hobbies: Toma la mano, y siente algo extrano. Abraza, lo abrazan y empieza a temblar. A temblar de miedo y dice que nunca habia tenido sensacion asi, en su vida, asi en su vida. \n",
    "Estado civil: Novio de una vieja, corista de los Angeles Azules. \n",
    "\n",
    "### Estudios \n",
    "2000-2005: Colegio Valle Verde \n",
    "2006-2014: Colegio Montessori\n",
    "2014 al dia de hoy mismo: Universidad Francisco Marroquin\n",
    "\n",
    "### Colaboraciones:\n",
    "Helps International en el 2009\n",
    "\n"
   ]
  },
  {
   "cell_type": "code",
   "execution_count": null,
   "metadata": {
    "collapsed": true
   },
   "outputs": [],
   "source": []
  }
 ],
 "metadata": {
  "kernelspec": {
   "display_name": "Python 2",
   "language": "python",
   "name": "python2"
  },
  "language_info": {
   "codemirror_mode": {
    "name": "ipython",
    "version": 2
   },
   "file_extension": ".py",
   "mimetype": "text/x-python",
   "name": "python",
   "nbconvert_exporter": "python",
   "pygments_lexer": "ipython2",
   "version": "2.7.11"
  }
 },
 "nbformat": 4,
 "nbformat_minor": 0
}
